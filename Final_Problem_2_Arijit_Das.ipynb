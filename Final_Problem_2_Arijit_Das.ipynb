{
 "cells": [
  {
   "cell_type": "code",
   "execution_count": 6,
   "id": "outstanding-manchester",
   "metadata": {},
   "outputs": [],
   "source": [
    "#Add Latex here "
   ]
  },
  {
   "cell_type": "code",
   "execution_count": 7,
   "id": "painted-russell",
   "metadata": {},
   "outputs": [],
   "source": [
    "%matplotlib inline\n",
    "\n",
    "import numpy as np\n",
    "from numpy.linalg import inv\n",
    "from scipy.integrate import odeint, solve_ivp\n",
    "\n",
    "import matplotlib.pyplot as plt"
   ]
  },
  {
   "cell_type": "code",
   "execution_count": 62,
   "id": "fixed-physiology",
   "metadata": {},
   "outputs": [],
   "source": [
    "class Gravitational_Orbits():\n",
    "    \n",
    "    \"\"\"\n",
    "    Class to implement the lagragian for a two body gravitational problem, using the following defined parameters.\n",
    "    \n",
    "    Parameters:\n",
    "    \n",
    "    m1 : float\n",
    "        mass of the first object\n",
    "    m2: float\n",
    "        mass of the second object\n",
    "    G: float\n",
    "        Gravitational Constant \n",
    "    \n",
    "    ----------\n",
    "    \n",
    "    Methods:\n",
    "    \n",
    "    dz_dt(t, z):\n",
    "        This function returns the right hand side of the differential equation in vector z, using given time t \\\n",
    "        and coressponding values of z. \n",
    "    \n",
    "    \n",
    "    \"\"\"\n",
    "    \n",
    "    def __init__(self, m1, m2, G):\n",
    "        \n",
    "        self.m1 = m1\n",
    "        self.m2 = m2\n",
    "        self.G = G\n",
    "        \n",
    "        \n",
    "    def dz_dt(self, t, z):\n",
    "        \"\"\"\n",
    "        Parameters: \n",
    "        t: float\n",
    "            time\n",
    "        z: float\n",
    "            This is an 8 component vector comprising of the following values:\n",
    "            \n",
    "            z[0] = x1(t) and z[1] = x1_dot(t)\n",
    "            z[2] = y1(t) and z[3] = y1_dot(t)\n",
    "            z[4] = x2(t) and z[5] = x2_dot(t)\n",
    "            z[6] = y2(t) and z[6] = y2_dot(t)\n",
    "            \n",
    "            Here, the x and y are space coordinates, and the x_dot, y_dot are their corresponding time \\ \n",
    "            derivatives                                        \n",
    "        \n",
    "        \"\"\"\n",
    "        r_12 = np.sqrt((z[0]-z[4])**2 + (z[2]-z[6])**2)\n",
    "    \n",
    "        return [\\\n",
    "                z[1], self.G * self.m2 * (z[4]-z[0]) / r_12**3, \\\n",
    "                z[3], self.G * self.m2 * (z[6]-z[2]) / r_12**3, \\\n",
    "                z[5], -self.G * self.m1 * (z[4]-z[0]) / r_12**3, \\\n",
    "                z[7], -self.G * self.m1 * (z[6]-z[2]) / r_12**3,                                 \n",
    "               ]\n",
    "    \n",
    "    def solve_ode(self, t_pts, z0, abserr=1.e-10, relerr = 1.e-10):\n",
    "        \n",
    "        solution = solve_ivp(self.dz_dt, (t_pts[0], t_pts[-1]), z0, t_eval = t_pts, \\\n",
    "                            method = \"RK23\", atol=abserr, rtol=relerr)\n",
    "        \n",
    "        x1, x1_dot, y1, y1_dot, x2, x2_dot, y2, y2_dot = solution.y\n",
    "        \n",
    "        \n",
    "        return x1, x1_dot, y1, y1_dot, x2, x2_dot, y2, y2_dot \n",
    "        \n",
    "        \n",
    "        \n",
    "    #Perhaps add solve_ode by leapfrog method \n",
    "    "
   ]
  },
  {
   "cell_type": "code",
   "execution_count": 63,
   "id": "catholic-customer",
   "metadata": {},
   "outputs": [],
   "source": [
    "#Plot function \n",
    "def plot_y_vs_x(x, y, axis_labels=None, label=None, title=None, \n",
    "                color=None, linestyle=None, semilogy=False, loglog=False,\n",
    "                ax=None):\n",
    "    \"\"\"\n",
    "    Generic plotting function: return a figure axis with a plot of y vs. x,\n",
    "    with line color and style, title, axis labels, and line label\n",
    "    \"\"\"\n",
    "    if ax is None:        # if the axis object doesn't exist, make one\n",
    "        ax = plt.gca()\n",
    "\n",
    "    if (semilogy):\n",
    "        line, = ax.semilogy(x, y, label=label, \n",
    "                            color=color, linestyle=linestyle)\n",
    "    elif (loglog):\n",
    "        line, = ax.loglog(x, y, label=label, \n",
    "                          color=color, linestyle=linestyle)\n",
    "    else:\n",
    "        line, = ax.plot(x, y, label=label, \n",
    "                    color=color, linestyle=linestyle)\n",
    "\n",
    "    if label is not None:    # if a label if passed, show the legend\n",
    "        ax.legend()\n",
    "    if title is not None:    # set a title if one if passed\n",
    "        ax.set_title(title)\n",
    "    if axis_labels is not None:  # set x-axis and y-axis labels if passed  \n",
    "        ax.set_xlabel(axis_labels[0])\n",
    "        ax.set_ylabel(axis_labels[1])\n",
    "\n",
    "    return ax, line "
   ]
  },
  {
   "cell_type": "code",
   "execution_count": 64,
   "id": "automatic-climate",
   "metadata": {},
   "outputs": [],
   "source": [
    "def start_stop_indices(t_pts, plot_start, plot_stop):\n",
    "    start_index = (np.fabs(t_pts-plot_start)).argmin()  # index in t_pts array \n",
    "    stop_index = (np.fabs(t_pts-plot_stop)).argmin()  # index in t_pts array \n",
    "    return start_index, stop_index"
   ]
  },
  {
   "cell_type": "code",
   "execution_count": 65,
   "id": "touched-granny",
   "metadata": {},
   "outputs": [],
   "source": [
    "#Labels \n",
    "orbit_labels = (r'$x$', r'$y$')"
   ]
  },
  {
   "cell_type": "code",
   "execution_count": 66,
   "id": "acquired-wednesday",
   "metadata": {},
   "outputs": [],
   "source": [
    "#time array\n",
    "t_start = 0.\n",
    "t_end = 10. \n",
    "delta_t = 0.001\n",
    "\n",
    "t_pts = np.arange(t_start, t_end + delta_t, delta_t)"
   ]
  },
  {
   "cell_type": "code",
   "execution_count": 67,
   "id": "painted-sullivan",
   "metadata": {},
   "outputs": [],
   "source": [
    "#initial conditions\n",
    "G = 1.\n",
    "m1 = 1.\n",
    "m2 = 5.\n",
    "\n",
    "orbit1 = Gravitational_Orbits(m1, m2, G)"
   ]
  },
  {
   "cell_type": "code",
   "execution_count": 68,
   "id": "interesting-scope",
   "metadata": {},
   "outputs": [],
   "source": [
    "#Initial conidtions for position and velocity \n",
    "\n",
    "x1_0, x1_dot_0 = 1., -1.\n",
    "y1_0, y1_dot_0 = 1., 1.\n",
    "\n",
    "x2_0, x2_dot_0 = -(m1/m2) * x1_0, (-m1/m2) * x1_dot_0\n",
    "y2_0, y2_dot_0 = -(m1/m2) * y1_0, (-m1/m2) * y1_dot_0 #Go over this from the video\n",
    "\n",
    "z_0 = [x1_0, x1_dot_0, y1_0, y1_dot_0, x2_0, x2_dot_0, y2_0, y2_dot_0]\n",
    "\n",
    "\n",
    "#Send to the solve_ode function \n",
    "\n",
    "x1, x1_dot, y1, y1_dot, x2, x2_dot, y2, y2_dot = orbit1.solve_ode(t_pts, z_0)\n"
   ]
  },
  {
   "cell_type": "code",
   "execution_count": 54,
   "id": "alternate-scotland",
   "metadata": {},
   "outputs": [
    {
     "data": {
      "image/png": "[encoded data removed]",
      "text/plain": [
       "<Figure size 360x360 with 1 Axes>"
      ]
     },
     "metadata": {
      "needs_background": "light"
     },
     "output_type": "display_data"
    }
   ],
   "source": [
    "#For plotting \n",
    "\n",
    "fig = plt.figure(figsize=(5,5))\n",
    "\n",
    "ax = fig.add_subplot(1,1,1)\n",
    "\n",
    "start, stop = start_stop_indices(t_pts, t_start, t_end)\n",
    "\n",
    "ax.plot(x1, y1, color='green', label=r'$m_1$')\n",
    "ax.plot(x2, y2, color='red', label=r'$m_2$')\n",
    "\n",
    "ax.set_title(\"Gravitational Orbits\")\n",
    "ax.legend()\n",
    "#ax.set_aspect(1)\n",
    "\n",
    "fig.tight_layout()\n"
   ]
  },
  {
   "cell_type": "code",
   "execution_count": 69,
   "id": "spanish-canal",
   "metadata": {},
   "outputs": [],
   "source": [
    "#Now try for different masses, where m2>>m1\n",
    "\n",
    "G = 1.\n",
    "m1 = 1.\n",
    "m2 = 20. #m2 >> m1\n",
    "\n",
    "orbit2 = Gravitational_Orbits(m1, m2, G)"
   ]
  },
  {
   "cell_type": "code",
   "execution_count": 70,
   "id": "judicial-representation",
   "metadata": {},
   "outputs": [],
   "source": [
    "#Initial conidtions for position and velocity \n",
    "\n",
    "x1_0, x1_dot_0 = 1., -1.\n",
    "y1_0, y1_dot_0 = 1., 1.\n",
    "\n",
    "x2_0, x2_dot_0 = -(m1/m2) * x1_0, (-m1/m2) * x1_dot_0\n",
    "y2_0, y2_dot_0 = -(m1/m2) * y1_0, (-m1/m2) * y1_dot_0 #Go over this from the video\n",
    "\n",
    "z_0 = [x1_0, x1_dot_0, y1_0, y1_dot_0, x2_0, x2_dot_0, y2_0, y2_dot_0]\n",
    "\n",
    "\n",
    "#Send to the solve_ode function \n",
    "\n",
    "x1, x1_dot, y1, y1_dot, x2, x2_dot, y2, y2_dot = orbit2.solve_ode(t_pts, z_0)\n"
   ]
  },
  {
   "cell_type": "code",
   "execution_count": 71,
   "id": "random-stability",
   "metadata": {},
   "outputs": [
    {
     "data": {
      "image/png": "[encoded data removed]",
      "text/plain": [
       "<Figure size 360x360 with 1 Axes>"
      ]
     },
     "metadata": {
      "needs_background": "light"
     },
     "output_type": "display_data"
    }
   ],
   "source": [
    "#For plotting \n",
    "\n",
    "fig = plt.figure(figsize=(5,5))\n",
    "\n",
    "ax = fig.add_subplot(1,1,1)\n",
    "\n",
    "start, stop = start_stop_indices(t_pts, t_start, t_end)\n",
    "\n",
    "ax.plot(x1, y1, color='blue', label=r'$m_1$')\n",
    "ax.plot(x2, y2, color='yellow', label=r'$m_2$')\n",
    "\n",
    "ax.set_title(\"Gravitational Orbits\")\n",
    "ax.legend()\n",
    "#ax.set_aspect(1)\n",
    "\n",
    "fig.tight_layout()\n"
   ]
  },
  {
   "cell_type": "code",
   "execution_count": null,
   "id": "connected-pride",
   "metadata": {},
   "outputs": [],
   "source": [
    "#(Do this in Latex) We see how with m2>> m1, the orbits go from being circular to looking more like an ellipse. "
   ]
  }
 ],
 "metadata": {
  "kernelspec": {
   "display_name": "Python 3",
   "language": "python",
   "name": "python3"
  },
  "language_info": {
   "codemirror_mode": {
    "name": "ipython",
    "version": 3
   },
   "file_extension": ".py",
   "mimetype": "text/x-python",
   "name": "python",
   "nbconvert_exporter": "python",
   "pygments_lexer": "ipython3",
   "version": "3.7.7"
  }
 },
 "nbformat": 4,
 "nbformat_minor": 5
}
